{
 "cells": [
  {
   "cell_type": "code",
   "execution_count": 72,
   "metadata": {},
   "outputs": [],
   "source": [
    "import numpy as np\n",
    "import pandas as pd\n",
    "import matplotlib.pyplot as plt\n"
   ]
  },
  {
   "cell_type": "code",
   "execution_count": 73,
   "metadata": {},
   "outputs": [],
   "source": [
    "df = np.array([\n",
    "  [0, 100],\n",
    "  [20, 150],\n",
    "  [30, 200],\n",
    "  [40, 180],\n",
    "  [50, 250],\n",
    "  [60, 230]\n",
    "])\n",
    "\n",
    "pd_df = pd.DataFrame(df)\n"
   ]
  },
  {
   "cell_type": "code",
   "execution_count": 74,
   "metadata": {},
   "outputs": [
    {
     "name": "stdout",
     "output_type": "stream",
     "text": [
      "6\n"
     ]
    }
   ],
   "source": [
    "print(len(pd_df))\n"
   ]
  },
  {
   "cell_type": "code",
   "execution_count": 75,
   "metadata": {},
   "outputs": [
    {
     "name": "stdout",
     "output_type": "stream",
     "text": [
      "    0    1\n",
      "0   0  100\n",
      "1  20  150\n",
      "2  30  200\n",
      "3  40  180\n",
      "4  50  250\n",
      "5  60  230\n"
     ]
    }
   ],
   "source": [
    "print(pd_df)"
   ]
  },
  {
   "cell_type": "code",
   "execution_count": 76,
   "metadata": {},
   "outputs": [
    {
     "name": "stdout",
     "output_type": "stream",
     "text": [
      "200\n",
      "1110\n",
      "9000\n",
      "42500\n",
      "6\n"
     ]
    }
   ],
   "source": [
    "sum_x = pd_df[0].sum()\n",
    "print(sum_x)\n",
    "sum_y = pd_df[1].sum()\n",
    "print(sum_y)\n",
    "\n",
    "sum_xSquared = pd_df[0].apply(lambda x : x**2).sum()\n",
    "print(sum_xSquared)\n",
    "sum_xy = (pd_df[0] * pd_df[1]).sum()\n",
    "print(sum_xy)\n",
    "n = len(pd_df)\n",
    "print(n)\n"
   ]
  },
  {
   "cell_type": "code",
   "execution_count": 77,
   "metadata": {},
   "outputs": [
    {
     "name": "stdout",
     "output_type": "stream",
     "text": [
      "2.357142857142857\n",
      "106.42857142857143\n"
     ]
    }
   ],
   "source": [
    "#Hallar la pendiente\n",
    "pendiente = (n*sum_xy - sum_x*sum_y)/(n*sum_xSquared - sum_x**2)\n",
    "print(pendiente)\n",
    "#Hallar la intersección\n",
    "interseccion = (sum_y - pendiente*sum_x)/n\n",
    "print(interseccion)"
   ]
  },
  {
   "cell_type": "code",
   "execution_count": 78,
   "metadata": {},
   "outputs": [],
   "source": [
    "def f(m, x, b):\n",
    "  \"\"\"Calculo de la pendiente \"\"\"\n",
    "  return m*x + b\n"
   ]
  },
  {
   "cell_type": "code",
   "execution_count": 79,
   "metadata": {},
   "outputs": [
    {
     "name": "stdout",
     "output_type": "stream",
     "text": [
      "La ecuación lineal es: \n",
      "y = 2.36x + 106.43\n"
     ]
    }
   ],
   "source": [
    "print('La ecuación lineal es: ')\n",
    "print(f'y = {np.round(pendiente,2)}x + {np.round(interseccion,2)}')\n"
   ]
  },
  {
   "cell_type": "code",
   "execution_count": 80,
   "metadata": {},
   "outputs": [
    {
     "name": "stdout",
     "output_type": "stream",
     "text": [
      "El error cuadratico medio es, ECM =  330.9523809523811\n"
     ]
    }
   ],
   "source": [
    "ecm = ((f(pendiente, pd_df[0], interseccion) - pd_df[1])**2).sum() / n\n",
    "print(\"El error cuadratico medio es, ECM = \", ecm)\n"
   ]
  },
  {
   "cell_type": "code",
   "execution_count": 81,
   "metadata": {},
   "outputs": [
    {
     "data": {
      "image/png": "[encoded data removed]",
      "text/plain": "<Figure size 432x288 with 1 Axes>"
     },
     "metadata": {
      "needs_background": "light"
     },
     "output_type": "display_data"
    }
   ],
   "source": [
    "N = 1000\n",
    "x = np.linspace(0, (60), num=N)\n",
    "y = f(pendiente, x, interseccion)\n",
    "\n",
    "fig, ax = plt.subplots()\n",
    "ax.plot(x, y, color='green')\n",
    "\n",
    "ax.scatter(pd_df[0], pd_df[1], c='red')\n",
    "\n",
    "ax.set_xlabel('Gasto en publicidad')\n",
    "ax.set_ylabel('Ventas')\n",
    "ax.grid()\n"
   ]
  },
  {
   "cell_type": "code",
   "execution_count": null,
   "metadata": {},
   "outputs": [],
   "source": []
  }
 ],
 "metadata": {
  "kernelspec": {
   "display_name": "Python 3.9.5 64-bit ('datascience_ml': conda)",
   "name": "python395jvsc74a57bd0f5bceb1afc4869e4b9fabd2ca8b7231ce721ab457c48373fb761565f06fcb0ed"
  },
  "language_info": {
   "codemirror_mode": {
    "name": "ipython",
    "version": 3
   },
   "file_extension": ".py",
   "mimetype": "text/x-python",
   "name": "python",
   "nbconvert_exporter": "python",
   "pygments_lexer": "ipython3",
   "version": "3.9.5"
  },
  "orig_nbformat": 2
 },
 "nbformat": 4,
 "nbformat_minor": 2
}